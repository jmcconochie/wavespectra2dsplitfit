{
 "cells": [
  {
   "cell_type": "markdown",
   "id": "f21796ba-f6c8-4606-a7b5-766098ea2db2",
   "metadata": {},
   "source": [
    "# Simple Test for the wavespectra2dsplitfit package"
   ]
  },
  {
   "cell_type": "code",
   "execution_count": 1,
   "id": "2e9edc88-01d3-42eb-b178-ab2354bc0509",
   "metadata": {},
   "outputs": [
    {
     "name": "stdout",
     "output_type": "stream",
     "text": [
      "Optimization terminated successfully.\n",
      "         Current function value: 0.082135\n",
      "         Iterations: 1082\n",
      "         Function evaluations: 1733\n",
      "[[0.5859285326910995, 4.716981132075468, 1.0000053476007895, 0.07, 0.09, -4.234276488479486, 300.0, 4.716981132075468], [0.6129423521749234, 7.812499999999995, 5.970526837658344, 0.07, 0.09, -5.140143260428807, 290.0, 7.812499999999995], [0.4047506936099149, 10.869565217391298, 1.0000041524068202, 0.07, 0.09, -15.401874257914326, 240.0, 10.869565217391298]] [True, 0.08213522716322981, 1733]\n",
      "===== PARTITION =====\n",
      "Hs =  0.5859285326910995\n",
      "Tp =  4.716981132075468\n",
      "Gamma =  1.0000053476007895\n",
      "Sigma A =  0.07\n",
      "Sigma B =  0.09\n",
      "Tail Exp =  -4.234276488479486\n",
      "ThetaP =  300.0\n",
      "===== PARTITION =====\n",
      "Hs =  0.6129423521749234\n",
      "Tp =  7.812499999999995\n",
      "Gamma =  5.970526837658344\n",
      "Sigma A =  0.07\n",
      "Sigma B =  0.09\n",
      "Tail Exp =  -5.140143260428807\n",
      "ThetaP =  290.0\n",
      "===== PARTITION =====\n",
      "Hs =  0.4047506936099149\n",
      "Tp =  10.869565217391298\n",
      "Gamma =  1.0000041524068202\n",
      "Sigma A =  0.07\n",
      "Sigma B =  0.09\n",
      "Tail Exp =  -15.401874257914326\n",
      "ThetaP =  240.0\n",
      "===== FITTING OUTCOME =====\n",
      "Fitting successful:  True\n",
      "RMS error of fit:  0.08213522716322981\n",
      "Number of function evalutions:  1733\n"
     ]
    }
   ],
   "source": [
    "import numpy as np\n",
    "from wavespectra2dsplitfit.S2DFit import readWaveSpectrum_mat\n",
    "filename = 'data/ExampleWaveSpectraObservations.mat'\n",
    "f, th, S, sDate = readWaveSpectrum_mat(filename)\n",
    "S = S * np.pi/180 # convert from m^2/(Hz.rad) to m^2/(Hz.deg)\n",
    "   \n",
    "# Setup fitting configuration - simple example with no wind (also usually best setup with no wind)    \n",
    "tConfig = {\n",
    "    'maxPartitions': 3,\n",
    "    'useClustering': True,\n",
    "    'useWind': False,\n",
    "    'useFittedWindSea': False, \n",
    "    'useWindSeaInClustering': False,\n",
    "}\n",
    "\n",
    "# Just do the first spectrum\n",
    "from wavespectra2dsplitfit.S2DFit import fit2DSpectrum\n",
    "specParms, fitStatus, diagOut = fit2DSpectrum(f[0], th[0], S[0,:,:], **tConfig)\n",
    "print(specParms, fitStatus)\n",
    "\n",
    "for tSpec in specParms:\n",
    "    print(\"===== PARTITION =====\")\n",
    "    print(\"Hs = \",tSpec[0])\n",
    "    print(\"Tp = \",tSpec[1])\n",
    "    print(\"Gamma = \",tSpec[2])\n",
    "    print(\"Sigma A = \",tSpec[3])\n",
    "    print(\"Sigma B = \",tSpec[4])\n",
    "    print(\"Tail Exp = \",tSpec[5])\n",
    "    print(\"ThetaP = \",tSpec[6])\n",
    "print(\"===== FITTING OUTCOME =====\")\n",
    "print(f\"Fitting successful: \",fitStatus[0])\n",
    "print(f\"RMS error of fit: \",fitStatus[1])\n",
    "print(f\"Number of function evalutions: \",fitStatus[2])\n",
    "\n",
    "from wavespectra2dsplitfit.S2DFit import plot2DFittingDiagnostics\n",
    "f, th, S, f_sm, th_sm, S_sm, wsMask, Tp_pk, ThetaP_pk, Tp_sel, ThetaP_sel, whichClus = diagOut\n",
    "plot2DFittingDiagnostics(\n",
    "    specParms, \n",
    "    f, th, S, \n",
    "    f_sm, th_sm, S_sm, \n",
    "    wsMask,\n",
    "    Tp_pk, ThetaP_pk, Tp_sel, ThetaP_sel, whichClus,\n",
    "    tConfig['useWind'], tConfig['useClustering'],\n",
    "    saveFigFilename = 'test',  \n",
    "    tag = \"S2DFit Simple Test\"  \n",
    ")"
   ]
  },
  {
   "cell_type": "code",
   "execution_count": 3,
   "id": "8b76c849-6392-4524-88e6-2f05ec6a0492",
   "metadata": {},
   "outputs": [
    {
     "name": "stdout",
     "output_type": "stream",
     "text": [
      "[NbConvertApp] Converting notebook test.ipynb to python\n",
      "[NbConvertApp] Writing 1812 bytes to test.py\n"
     ]
    }
   ],
   "source": [
    "try:\n",
    "    get_ipython() \n",
    "    !jupyter nbconvert test.ipynb --to python\n",
    "except:\n",
    "    None"
   ]
  }
 ],
 "metadata": {
  "kernelspec": {
   "display_name": "Python 3 (ipykernel)",
   "language": "python",
   "name": "python3"
  },
  "language_info": {
   "codemirror_mode": {
    "name": "ipython",
    "version": 3
   },
   "file_extension": ".py",
   "mimetype": "text/x-python",
   "name": "python",
   "nbconvert_exporter": "python",
   "pygments_lexer": "ipython3",
   "version": "3.10.9"
  }
 },
 "nbformat": 4,
 "nbformat_minor": 5
}
