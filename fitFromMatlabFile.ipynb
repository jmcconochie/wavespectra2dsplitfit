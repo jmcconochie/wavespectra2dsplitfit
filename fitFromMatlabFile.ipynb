{
 "cells": [
  {
   "cell_type": "code",
   "execution_count": 1,
   "id": "8ab9f4f1-45b9-47d8-b8dd-c1296c1e97b9",
   "metadata": {},
   "outputs": [],
   "source": [
    "try:\n",
    "    %load_ext autoreload\n",
    "    %autoreload 2\n",
    "except:\n",
    "    None"
   ]
  },
  {
   "cell_type": "markdown",
   "id": "481716a0-3e3c-4f68-84fd-97fec419bd75",
   "metadata": {},
   "source": [
    "# FUNCTION: runFitting"
   ]
  },
  {
   "cell_type": "code",
   "execution_count": 2,
   "id": "531569ad-66fc-4b04-8615-fdecd6879e5d",
   "metadata": {},
   "outputs": [],
   "source": [
    "def runFitting(tag, f, th, S, sDate, timeRange, baseConfig):\n",
    "    import numpy as np\n",
    "    \n",
    "    # B. Loop over times and fit spectra   \n",
    "    allPartRes = []\n",
    "    allPartStatus = []\n",
    "    for iTime in timeRange:\n",
    "        fTime = sDate[iTime].strftime(\"%Y-%m-%dT%H_%M_%S\")\n",
    "        \n",
    "        # B1. Do the fitting\n",
    "        print(\"=== START =====================================================================\")\n",
    "        print(iTime,fTime,baseConfig)\n",
    "        from wavespectra2dsplitfit.S2DFit import fit2DSpectrum\n",
    "        specParms, fitStatus, diagOut = fit2DSpectrum(f, th, S[iTime,:,:], **baseConfig)\n",
    "        print(specParms, fitStatus)\n",
    "        print(\"=== END =======================================================================\")\n",
    "\n",
    "        from wavespectra2dsplitfit.S2DFit import plot2DFittingDiagnostics\n",
    "        df, dth, dS, f_sm, th_sm, S_sm, wsMask, Tp_pk, ThetaP_pk, Tp_sel, ThetaP_sel, whichClus = diagOut\n",
    "        plot2DFittingDiagnostics(\n",
    "            specParms, \n",
    "            df, dth, dS, \n",
    "            f_sm, th_sm, S_sm, \n",
    "            wsMask,\n",
    "            Tp_pk, ThetaP_pk, Tp_sel, ThetaP_sel, whichClus,\n",
    "            baseConfig['useWind'], baseConfig['useClustering'],\n",
    "            saveFigFilename = f\"images/{tag}_{fTime}\",  \n",
    "            tag = tag\n",
    "        )\n",
    "        \n",
    "        # B2. Save off all the parameters\n",
    "        allPartRes.append(specParms)\n",
    "        allPartStatus.append(fitStatus)                \n",
    "    \n",
    "    return allPartRes, allPartStatus\n"
   ]
  },
  {
   "cell_type": "markdown",
   "id": "1a47e489-fd55-483b-9538-b6802d470ac7",
   "metadata": {},
   "source": [
    "# FUNCTION: fitResults2Pandas"
   ]
  },
  {
   "cell_type": "code",
   "execution_count": 3,
   "id": "e90d163b-bf67-45da-9cb7-c0409a327e44",
   "metadata": {},
   "outputs": [],
   "source": [
    "def fitResults2Pandas(allPartRes, allPartStatus, allTimes, timeRange):\n",
    "\n",
    "    # C. Save all the parameters to a csv file\n",
    "    import pandas as pd\n",
    "    # C1. Get maximum elements for all partitions\n",
    "    maxParts = 0\n",
    "    for tParts in allPartRes:\n",
    "        tRes = [x for xs in tParts for x in xs] \n",
    "        maxParts = max(len(tRes),maxParts)\n",
    "\n",
    "    # C2. Load data table with partition results and fitting results\n",
    "    import numpy as np\n",
    "    nTimesUsed = len(allPartRes)\n",
    "    dataArray = np.zeros([nTimesUsed, maxParts + 3])\n",
    "    selTimes = []\n",
    "    for iTime,tParts in enumerate(allPartRes):\n",
    "        tRes = [x for xs in allPartRes[iTime] for x in xs] \n",
    "        dataArray[iTime,0:len(tRes)] = tRes\n",
    "        dataArray[iTime,-3:] = allPartStatus[iTime]\n",
    "        selTimes.append(allTimes[timeRange[iTime]])\n",
    "\n",
    "    columns = int(maxParts/8) * [\"Hs\",\"Tp\",\"gamma\",\"sigmaa\",\"sigmab\",\"tailExp\",\"ThetaP\",\"sSpread\"]\n",
    "    columns = columns + [\"Solved\",\"Fit Error\",\"NoFuncEvals\"]\n",
    "    df = pd.DataFrame(index = selTimes, data = dataArray, columns = columns)\n",
    "    return df\n"
   ]
  },
  {
   "cell_type": "markdown",
   "id": "b545d7be-65a4-49f6-8d6e-857f892f84ee",
   "metadata": {},
   "source": [
    "# Main "
   ]
  },
  {
   "cell_type": "code",
   "execution_count": 6,
   "id": "0a469dd6-212d-4ec8-935e-d0df7d3f8173",
   "metadata": {
    "tags": []
   },
   "outputs": [],
   "source": [
    "def main(filename):\n",
    "    \n",
    "    # A. Read the data file \n",
    "    import numpy as np\n",
    "    from wavespectra2dsplitfit.S2DFit import readWaveSpectrum_mat\n",
    "    f, th, S, sDate = readWaveSpectrum_mat(filename)\n",
    "    S = S * np.pi/180 # convert from m^2/(Hz.rad) to m^2/(Hz.deg)\n",
    "\n",
    "    # B. Regrid spectra to increase speed of fitting\n",
    "    import numpy as np\n",
    "    from wavespectra2dsplitfit.S2DFit import interpSpectrum\n",
    "    f_out = np.arange(0.04,0.4,0.01)\n",
    "    th_out = np.arange(0,350,15)\n",
    "    S_out = np.zeros((len(sDate),len(f_out),len(th_out)))\n",
    "    for i in range(0,len(sDate),1):\n",
    "        S_out[i,:,:] = interpSpectrum(f, th, S[i,:,:], f_out, th_out)\n",
    "\n",
    "    # C. Run the fitting\n",
    "    baseConfig = {\n",
    "        'maxPartitions': 3,\n",
    "        'useClustering': True,\n",
    "        'useWind': False,\n",
    "        'useFittedWindSea': False, \n",
    "        'useWindSeaInClustering': False,\n",
    "    }\n",
    "    \n",
    "    timeRange = range(0,len(sDate),1)\n",
    "    #timeRange = range(0,2,1)\n",
    "    allPartRes, allPartStatus = runFitting(\"Test\", f_out, th_out, S_out, sDate, timeRange, baseConfig)   \n",
    "\n",
    "    # D. Compile and save the results\n",
    "    df = fitResults2Pandas(allPartRes, allPartStatus, sDate, timeRange) \n",
    "    df.to_csv(f\"fittedParms.csv\")\n",
    "\n",
    "    return df"
   ]
  },
  {
   "cell_type": "code",
   "execution_count": 7,
   "id": "20a8cf2b-0d43-4486-9220-06c6ed4e0a1a",
   "metadata": {
    "tags": []
   },
   "outputs": [
    {
     "name": "stdout",
     "output_type": "stream",
     "text": [
      "=== START =====================================================================\n",
      "0 2019-01-01T00_00_00 {'maxPartitions': 3, 'useClustering': True, 'useWind': False, 'useFittedWindSea': False, 'useWindSeaInClustering': False}\n",
      "Optimization terminated successfully.\n",
      "         Current function value: 0.045464\n",
      "         Iterations: 1359\n",
      "         Function evaluations: 2113\n",
      "[[0.23353131211973077, 5.847953216374265, 1.9064913278848699, 0.07, 0.09, -1.000001837141574, 300.0, 5.847953216374265], [0.8903400513528572, 7.751937984496119, 6.796329433372199, 0.07, 0.09, -1.1478873183559009, 290.0, 7.751937984496119], [0.3860581635852018, 10.869565217391298, 1.368497322798426, 0.07, 0.09, -15.19822159750617, 240.0, 10.869565217391298]] [True, 0.04546386831130018, 2113]\n",
      "=== END =======================================================================\n",
      "=== START =====================================================================\n",
      "1 2019-01-01T00_30_00 {'maxPartitions': 3, 'useClustering': True, 'useWind': False, 'useFittedWindSea': False, 'useWindSeaInClustering': False}\n",
      "Optimization terminated successfully.\n",
      "         Current function value: 0.022860\n",
      "         Iterations: 1102\n",
      "         Function evaluations: 1689\n",
      "[[0.26145398658796526, 4.081632653061221, 4.890066192509073, 0.07, 0.09, -9.324364329975277, 300.0, 4.081632653061221], [0.7450085634311926, 7.874015748031491, 3.5918409208585467, 0.07, 0.09, -2.0182220977237773, 290.0, 7.874015748031491], [0.452089260052436, 10.101010101010095, 6.847570473803587, 0.07, 0.09, -2.9412778893667593, 240.0, 10.101010101010095]] [True, 0.02286008473331923, 1689]\n",
      "=== END =======================================================================\n",
      "=== START =====================================================================\n",
      "2 2019-01-01T01_00_00 {'maxPartitions': 3, 'useClustering': True, 'useWind': False, 'useFittedWindSea': False, 'useWindSeaInClustering': False}\n",
      "Optimization terminated successfully.\n",
      "         Current function value: 0.018334\n",
      "         Iterations: 594\n",
      "         Function evaluations: 977\n",
      "[[7.2277696355023055e-06, 3.759398496240599, 6.215328475379018, 0.07, 0.09, -7.948698034207871, 290.0, 3.759398496240599], [0.8201888590948725, 7.936507936507931, 3.1044653247591016, 0.07, 0.09, -1.0111061462581148, 290.0, 7.936507936507931], [0.2360856685173276, 10.526315789473678, 6.200505461439144, 0.07, 0.09, -7.124451282091343, 240.0, 10.526315789473678]] [True, 0.018334206172832712, 977]\n",
      "=== END =======================================================================\n",
      "=== START =====================================================================\n",
      "3 2019-01-01T01_30_00 {'maxPartitions': 3, 'useClustering': True, 'useWind': False, 'useFittedWindSea': False, 'useWindSeaInClustering': False}\n",
      "Optimization terminated successfully.\n",
      "         Current function value: 0.021545\n",
      "         Iterations: 1631\n",
      "         Function evaluations: 2494\n",
      "[[0.45605457664094323, 4.329004329004325, 1.7705539600837463, 0.07, 0.09, -4.296240659963856, 290.0, 4.329004329004325], [0.6548642267722976, 7.812499999999995, 1.6802078433170313, 0.07, 0.09, -10.21342703844698, 280.0, 7.812499999999995], [0.28455437533901784, 11.904761904761898, 1.3732046838214256, 0.07, 0.09, -23.511148607775443, 250.0, 11.904761904761898]] [True, 0.02154520672031439, 2494]\n",
      "=== END =======================================================================\n",
      "=== START =====================================================================\n",
      "4 2019-01-01T02_00_00 {'maxPartitions': 3, 'useClustering': True, 'useWind': False, 'useFittedWindSea': False, 'useWindSeaInClustering': False}\n",
      "Optimization terminated successfully.\n",
      "         Current function value: 0.012237\n",
      "         Iterations: 705\n",
      "         Function evaluations: 1135\n",
      "[[0.20617837843918235, 3.597122302158271, 6.405315268348101, 0.07, 0.09, -4.888703219499945, 300.0, 3.597122302158271], [0.7438987532247083, 7.575757575757571, 2.4122841135711424, 0.07, 0.09, -1.589738429835664, 290.0, 7.575757575757571], [0.2820963793910344, 10.63829787234042, 6.713268184314979, 0.07, 0.09, -6.478029443007823, 250.0, 10.63829787234042]] [True, 0.012237044370681559, 1135]\n",
      "=== END =======================================================================\n",
      "=== START =====================================================================\n",
      "5 2019-01-01T02_30_00 {'maxPartitions': 3, 'useClustering': True, 'useWind': False, 'useFittedWindSea': False, 'useWindSeaInClustering': False}\n",
      "Optimization terminated successfully.\n",
      "         Current function value: 0.026626\n",
      "         Iterations: 605\n",
      "         Function evaluations: 961\n",
      "[[0.13637094212643647, 2.9850746268656696, 7.261872371134094, 0.07, 0.09, -9.328462659664357, 240.0, 2.9850746268656696], [0.23778637404332403, 4.115226337448557, 7.579880602887034, 0.07, 0.09, -4.642457830695076, 290.0, 4.115226337448557], [0.8691265741854681, 7.999999999999995, 2.3919794876155986, 0.07, 0.09, -2.1160579737738923, 280.0, 7.999999999999995]] [True, 0.02662605625636557, 961]\n",
      "=== END =======================================================================\n",
      "=== START =====================================================================\n",
      "6 2019-01-01T03_00_00 {'maxPartitions': 3, 'useClustering': True, 'useWind': False, 'useFittedWindSea': False, 'useWindSeaInClustering': False}\n",
      "Optimization terminated successfully.\n",
      "         Current function value: 0.015885\n",
      "         Iterations: 593\n",
      "         Function evaluations: 984\n",
      "[[0.2075551587931863, 3.80228136882129, 6.935557206688989, 0.07, 0.09, -6.115981935762033, 280.0, 3.80228136882129], [0.7456054766031333, 7.633587786259537, 6.013750248986029, 0.07, 0.09, -1.000470938240528, 280.0, 7.633587786259537], [0.28934047434527854, 10.41666666666666, 2.0295669168800687, 0.07, 0.09, -12.279041013984832, 250.0, 10.41666666666666]] [True, 0.015884624814558185, 984]\n",
      "=== END =======================================================================\n",
      "=== START =====================================================================\n",
      "7 2019-01-01T03_30_00 {'maxPartitions': 3, 'useClustering': True, 'useWind': False, 'useFittedWindSea': False, 'useWindSeaInClustering': False}\n",
      "Optimization terminated successfully.\n",
      "         Current function value: 0.019919\n",
      "         Iterations: 1261\n",
      "         Function evaluations: 1970\n",
      "[[0.15449516543056213, 3.891050583657585, 7.097604679045185, 0.07, 0.09, -5.734761481161037, 270.0, 3.891050583657585], [0.7565943987598697, 7.633587786259537, 4.738943901046311, 0.07, 0.09, -1.0000047329840058, 290.0, 7.633587786259537], [0.33365328096313746, 10.309278350515457, 4.265161938036233, 0.07, 0.09, -7.8622137575555975, 250.0, 10.309278350515457]] [True, 0.019919055071529104, 1970]\n",
      "=== END =======================================================================\n",
      "=== START =====================================================================\n",
      "8 2019-01-01T04_00_00 {'maxPartitions': 3, 'useClustering': True, 'useWind': False, 'useFittedWindSea': False, 'useWindSeaInClustering': False}\n",
      "Optimization terminated successfully.\n",
      "         Current function value: 0.016029\n",
      "         Iterations: 254\n",
      "         Function evaluations: 446\n",
      "[[0.2576550656301732, 2.840909090909089, 4.4351873610054335, 0.07, 0.09, -7.1678673614387804, 270.0, 2.840909090909089], [0.4922140167525425, 7.936507936507931, 4.3967946797381225, 0.07, 0.09, -6.050529217641791, 300.0, 7.936507936507931], [0.37527005123517176, 10.63829787234042, 4.377286230491022, 0.07, 0.09, -5.444120459131374, 250.0, 10.63829787234042]] [True, 0.01602874112620255, 446]\n",
      "=== END =======================================================================\n",
      "=== START =====================================================================\n",
      "9 2019-01-01T04_30_00 {'maxPartitions': 3, 'useClustering': True, 'useWind': False, 'useFittedWindSea': False, 'useWindSeaInClustering': False}\n",
      "Optimization terminated successfully.\n",
      "         Current function value: 0.013914\n",
      "         Iterations: 1300\n",
      "         Function evaluations: 1994\n",
      "[[0.03465805706239592, 4.201680672268904, 11.003254483782928, 0.07, 0.09, -7.721426822603515, 330.0, 4.201680672268904], [0.70959949529159, 7.575757575757571, 2.391820179867742, 0.07, 0.09, -2.226542758167108, 290.0, 7.575757575757571], [0.23691841844209802, 11.235955056179769, 1.0000004152914599, 0.07, 0.09, -9.578107850724448, 210.0, 11.235955056179769]] [True, 0.01391393917560434, 1994]\n",
      "=== END =======================================================================\n"
     ]
    }
   ],
   "source": [
    "try:\n",
    "    # If running in jupyter notebook put filename here\n",
    "    get_ipython()  # fails if not running in jupyter notebook/ipython \n",
    "    filename = \"data/ExampleWaveSpectraObservations.mat\"\n",
    "except:\n",
    "    # If runing from command line specify input matlab file as command line\n",
    "    #  argument e.g. python fitFromMatlabFile.py data/ExampleWaveSpectraObservations.mat\n",
    "    import sys\n",
    "    if len(sys.argv) > 1:\n",
    "        filename = sys.argv[1]\n",
    "        \n",
    "df = main(filename)"
   ]
  },
  {
   "cell_type": "code",
   "execution_count": 9,
   "id": "e0f4fe36-5146-4d1c-b668-72c53e38324b",
   "metadata": {},
   "outputs": [
    {
     "name": "stdout",
     "output_type": "stream",
     "text": [
      "[NbConvertApp] Converting notebook fitFromMatlabFile.ipynb to python\n",
      "[NbConvertApp] Writing 4564 bytes to fitFromMatlabFile.py\n"
     ]
    }
   ],
   "source": [
    "try:\n",
    "    get_ipython() \n",
    "    !jupyter nbconvert fitFromMatlabFile.ipynb --to python\n",
    "except:\n",
    "    None"
   ]
  }
 ],
 "metadata": {
  "kernelspec": {
   "display_name": "Python 3 (ipykernel)",
   "language": "python",
   "name": "python3"
  },
  "language_info": {
   "codemirror_mode": {
    "name": "ipython",
    "version": 3
   },
   "file_extension": ".py",
   "mimetype": "text/x-python",
   "name": "python",
   "nbconvert_exporter": "python",
   "pygments_lexer": "ipython3",
   "version": "3.10.9"
  }
 },
 "nbformat": 4,
 "nbformat_minor": 5
}
