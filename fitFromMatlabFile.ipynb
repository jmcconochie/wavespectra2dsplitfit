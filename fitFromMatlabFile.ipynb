{
 "cells": [
  {
   "cell_type": "code",
   "execution_count": 1,
   "id": "8ab9f4f1-45b9-47d8-b8dd-c1296c1e97b9",
   "metadata": {},
   "outputs": [],
   "source": [
    "try:\n",
    "    %load_ext autoreload\n",
    "    %autoreload 2\n",
    "except:\n",
    "    None"
   ]
  },
  {
   "cell_type": "markdown",
   "id": "481716a0-3e3c-4f68-84fd-97fec419bd75",
   "metadata": {},
   "source": [
    "# FUNCTION: runFitting"
   ]
  },
  {
   "cell_type": "code",
   "execution_count": 2,
   "id": "531569ad-66fc-4b04-8615-fdecd6879e5d",
   "metadata": {},
   "outputs": [],
   "source": [
    "def runFitting(tag, f, th, S, sDate, timeRange, baseConfig):\n",
    "    import numpy as np\n",
    "    \n",
    "    # A. Loop over times and fit spectra   \n",
    "    allPartRes = []\n",
    "    allPartStatus = []\n",
    "    for iTime in timeRange:\n",
    "        fTime = sDate[iTime].strftime(\"%Y-%m-%dT%H_%M_%S\")\n",
    "        \n",
    "        # A1. Do the fitting\n",
    "        print(\"=== START =====================================================================\")\n",
    "        print(iTime,fTime,baseConfig)\n",
    "        from wavespectra2dsplitfit.S2DFit import fit2DSpectrum\n",
    "        specParms, fitStatus, diagOut = fit2DSpectrum(f, th, S[iTime,:,:], **baseConfig)\n",
    "        print(specParms, fitStatus)\n",
    "        print(\"=== END =======================================================================\")\n",
    "\n",
    "        # A2. Plot diagnostics\n",
    "        from wavespectra2dsplitfit.S2DFit import plot2DFittingDiagnostics\n",
    "        df, dth, dS, f_sm, th_sm, S_sm, wsMask, Tp_pk, ThetaP_pk, Tp_sel, ThetaP_sel, whichClus, partitionMap, S_t, Sparts_t, Hs_parts_input, Hs_parts_recon = diagOut\n",
    "        plot2DFittingDiagnostics(\n",
    "            specParms, \n",
    "            df, dth, dS, \n",
    "            f_sm, th_sm, S_sm, \n",
    "            wsMask,\n",
    "            Tp_pk, ThetaP_pk, Tp_sel, ThetaP_sel, whichClus,\n",
    "            baseConfig['useWind'], baseConfig['useClustering'],\n",
    "            saveFigFilename = f\"images/{tag}_{fTime}\",  \n",
    "            tag = tag\n",
    "        )\n",
    "        \n",
    "        # B2. Save off all the parameters\n",
    "        allPartRes.append(specParms)\n",
    "        allPartStatus.append(fitStatus)                \n",
    "    \n",
    "    return allPartRes, allPartStatus"
   ]
  },
  {
   "cell_type": "markdown",
   "id": "1a47e489-fd55-483b-9538-b6802d470ac7",
   "metadata": {},
   "source": [
    "# FUNCTION: fitResults2Pandas"
   ]
  },
  {
   "cell_type": "code",
   "execution_count": 3,
   "id": "e90d163b-bf67-45da-9cb7-c0409a327e44",
   "metadata": {},
   "outputs": [],
   "source": [
    "def fitResults2Pandas(allPartRes, allPartStatus, allTimes, timeRange):\n",
    "\n",
    "    # C. Save all the parameters to a csv file\n",
    "    import pandas as pd\n",
    "    # C1. Get maximum elements for all partitions\n",
    "    maxParts = 0\n",
    "    for tParts in allPartRes:\n",
    "        tRes = [x for xs in tParts for x in xs] \n",
    "        maxParts = max(len(tRes),maxParts)\n",
    "\n",
    "    # C2. Load data table with partition results and fitting results\n",
    "    import numpy as np\n",
    "    nTimesUsed = len(allPartRes)\n",
    "    dataArray = np.zeros([nTimesUsed, maxParts + 3])\n",
    "    selTimes = []\n",
    "    for iTime,tParts in enumerate(allPartRes):\n",
    "        tRes = [x for xs in allPartRes[iTime] for x in xs] \n",
    "        dataArray[iTime,0:len(tRes)] = tRes\n",
    "        dataArray[iTime,-3:] = allPartStatus[iTime]\n",
    "        selTimes.append(allTimes[timeRange[iTime]])\n",
    "\n",
    "    columns = int(maxParts/8) * [\"Hs\",\"Tp\",\"gamma\",\"sigmaa\",\"sigmab\",\"tailExp\",\"ThetaP\",\"sSpread\"]\n",
    "    columns = columns + [\"Solved\",\"Fit Error\",\"NoFuncEvals\"]\n",
    "    df = pd.DataFrame(index = selTimes, data = dataArray, columns = columns)\n",
    "    return df\n"
   ]
  },
  {
   "cell_type": "markdown",
   "id": "b545d7be-65a4-49f6-8d6e-857f892f84ee",
   "metadata": {},
   "source": [
    "# Main "
   ]
  },
  {
   "cell_type": "code",
   "execution_count": 4,
   "id": "0a469dd6-212d-4ec8-935e-d0df7d3f8173",
   "metadata": {
    "tags": []
   },
   "outputs": [],
   "source": [
    "def main(filename):\n",
    "    \n",
    "    # A. Read the data file \n",
    "    import numpy as np\n",
    "    from wavespectra2dsplitfit.S2DFit import readWaveSpectrum_mat\n",
    "    f, th, S, sDate = readWaveSpectrum_mat(filename)\n",
    "    S = S * np.pi/180 # convert from m^2/(Hz.rad) to m^2/(Hz.deg)\n",
    "\n",
    "    # B. Regrid spectra to increase speed of fitting\n",
    "    import numpy as np\n",
    "    from wavespectra2dsplitfit.S2DFit import interpSpectrum\n",
    "    f_out = np.arange(0.04,0.4,0.01)\n",
    "    th_out = np.arange(0,350,15)\n",
    "    S_out = np.zeros((len(sDate),len(f_out),len(th_out)))\n",
    "    for i in range(0,len(sDate),1):\n",
    "        S_out[i,:,:] = interpSpectrum(f, th, S[i,:,:], f_out, th_out)\n",
    "\n",
    "    # C. Run the fitting\n",
    "    baseConfig = {\n",
    "        'maxPartitions': 3,\n",
    "        'useClustering': True,\n",
    "        'useWind': False,\n",
    "        'useFittedWindSea': False, \n",
    "        'useWindSeaInClustering': False,\n",
    "        'fitTailExp': -5,\n",
    "    }\n",
    "    \n",
    "    timeRange = range(0,len(sDate),1)\n",
    "    #timeRange = range(0,2,1)\n",
    "    allPartRes, allPartStatus = runFitting(\"Test\", f_out, th_out, S_out, sDate, timeRange, baseConfig)   \n",
    "\n",
    "    # D. Compile and save the results\n",
    "    df = fitResults2Pandas(allPartRes, allPartStatus, sDate, timeRange) \n",
    "    df.to_csv(f\"fittedParms.csv\")\n",
    "\n",
    "    return df"
   ]
  },
  {
   "cell_type": "code",
   "execution_count": 5,
   "id": "20a8cf2b-0d43-4486-9220-06c6ed4e0a1a",
   "metadata": {
    "tags": []
   },
   "outputs": [
    {
     "name": "stdout",
     "output_type": "stream",
     "text": [
      "=== START =====================================================================\n",
      "0 2019-01-01T00_00_00 {'maxPartitions': 3, 'useClustering': True, 'useWind': False, 'useFittedWindSea': False, 'useWindSeaInClustering': False, 'fitTailExp': -5}\n",
      "Optimization terminated successfully.\n",
      "         Current function value: 0.045859\n",
      "         Iterations: 263\n",
      "         Function evaluations: 445\n",
      "[[0.4521858782806545, 5.847953216374265, 1.0005970301797729, 0.07, 0.09, -5, 300.0, 5.847953216374265], [0.6837064620311788, 7.751937984496119, 7.711708782960921, 0.07, 0.09, -5, 290.0, 7.751937984496119], [0.39093229252401795, 10.869565217391298, 5.673554209395733, 0.07, 0.09, -5, 240.0, 10.869565217391298]] [True, 0.04585913205267286, 445]\n",
      "=== END =======================================================================\n",
      "=== START =====================================================================\n",
      "1 2019-01-01T00_30_00 {'maxPartitions': 3, 'useClustering': True, 'useWind': False, 'useFittedWindSea': False, 'useWindSeaInClustering': False, 'fitTailExp': -5}\n",
      "Optimization terminated successfully.\n",
      "         Current function value: 0.023338\n",
      "         Iterations: 136\n",
      "         Function evaluations: 243\n",
      "[[0.3584061009177032, 4.081632653061221, 5.8620408642706465, 0.07, 0.09, -5, 300.0, 4.081632653061221], [0.601146794879535, 7.874015748031491, 4.425198722285272, 0.07, 0.09, -5, 290.0, 7.874015748031491], [0.44409627144019975, 10.101010101010095, 4.510590325152487, 0.07, 0.09, -5, 240.0, 10.101010101010095]] [True, 0.023337540343820483, 243]\n",
      "=== END =======================================================================\n",
      "=== START =====================================================================\n",
      "2 2019-01-01T01_00_00 {'maxPartitions': 3, 'useClustering': True, 'useWind': False, 'useFittedWindSea': False, 'useWindSeaInClustering': False, 'fitTailExp': -5}\n",
      "Optimization terminated successfully.\n",
      "         Current function value: 0.018509\n",
      "         Iterations: 257\n",
      "         Function evaluations: 430\n",
      "[[0.30850480004236475, 3.759398496240599, 6.744831923291461, 0.07, 0.09, -5, 290.0, 3.759398496240599], [0.6770473248138149, 7.936507936507931, 1.3443448487986576, 0.07, 0.09, -5, 290.0, 7.936507936507931], [0.26736384511605427, 10.526315789473678, 4.184412350538922, 0.07, 0.09, -5, 240.0, 10.526315789473678]] [True, 0.018508959820135625, 430]\n",
      "=== END =======================================================================\n",
      "=== START =====================================================================\n",
      "3 2019-01-01T01_30_00 {'maxPartitions': 3, 'useClustering': True, 'useWind': False, 'useFittedWindSea': False, 'useWindSeaInClustering': False, 'fitTailExp': -5}\n",
      "Optimization terminated successfully.\n",
      "         Current function value: 0.021760\n",
      "         Iterations: 714\n",
      "         Function evaluations: 1172\n",
      "[[0.3819697505639478, 4.329004329004325, 2.1084150428313913, 0.07, 0.09, -5, 290.0, 4.329004329004325], [0.7122581421492723, 7.812499999999995, 2.4955894323679546, 0.07, 0.09, -5, 280.0, 7.812499999999995], [0.27795661108568537, 11.904761904761898, 19.9985435126273, 0.07, 0.09, -5, 250.0, 11.904761904761898]] [True, 0.021759781603958743, 1172]\n",
      "=== END =======================================================================\n",
      "=== START =====================================================================\n",
      "4 2019-01-01T02_00_00 {'maxPartitions': 3, 'useClustering': True, 'useWind': False, 'useFittedWindSea': False, 'useWindSeaInClustering': False, 'fitTailExp': -5}\n",
      "Optimization terminated successfully.\n",
      "         Current function value: 0.012870\n",
      "         Iterations: 251\n",
      "         Function evaluations: 431\n",
      "[[0.3109181431806953, 3.597122302158271, 5.586869793288674, 0.07, 0.09, -5, 300.0, 3.597122302158271], [0.620321509903282, 7.575757575757571, 1.5945966144413861, 0.07, 0.09, -5, 290.0, 7.575757575757571], [0.3118853022374217, 10.63829787234042, 4.8701600348666085, 0.07, 0.09, -5, 250.0, 10.63829787234042]] [True, 0.012869558780365954, 431]\n",
      "=== END =======================================================================\n",
      "=== START =====================================================================\n",
      "5 2019-01-01T02_30_00 {'maxPartitions': 3, 'useClustering': True, 'useWind': False, 'useFittedWindSea': False, 'useWindSeaInClustering': False, 'fitTailExp': -5}\n",
      "Optimization terminated successfully.\n",
      "         Current function value: 0.026849\n",
      "         Iterations: 481\n",
      "         Function evaluations: 806\n",
      "[[0.28052316688801776, 2.9850746268656696, 1.0029335471404064, 0.07, 0.09, -5, 240.0, 2.9850746268656696], [0.29025462813073793, 4.115226337448557, 15.293653397534662, 0.07, 0.09, -5, 290.0, 4.115226337448557], [0.7591141760830379, 7.999999999999995, 1.6651892981841168, 0.07, 0.09, -5, 280.0, 7.999999999999995]] [True, 0.026848535305612316, 806]\n",
      "=== END =======================================================================\n",
      "=== START =====================================================================\n",
      "6 2019-01-01T03_00_00 {'maxPartitions': 3, 'useClustering': True, 'useWind': False, 'useFittedWindSea': False, 'useWindSeaInClustering': False, 'fitTailExp': -5}\n",
      "Optimization terminated successfully.\n",
      "         Current function value: 0.016974\n",
      "         Iterations: 150\n",
      "         Function evaluations: 260\n",
      "[[0.30969097821813163, 3.80228136882129, 6.451551559206608, 0.07, 0.09, -5, 280.0, 3.80228136882129], [0.6363150866787478, 7.633587786259537, 3.3912698755423465, 0.07, 0.09, -5, 280.0, 7.633587786259537], [0.29701817142555526, 10.41666666666666, 4.552390779522361, 0.07, 0.09, -5, 250.0, 10.41666666666666]] [True, 0.016973908872039874, 260]\n",
      "=== END =======================================================================\n",
      "=== START =====================================================================\n",
      "7 2019-01-01T03_30_00 {'maxPartitions': 3, 'useClustering': True, 'useWind': False, 'useFittedWindSea': False, 'useWindSeaInClustering': False, 'fitTailExp': -5}\n",
      "Optimization terminated successfully.\n",
      "         Current function value: 0.020748\n",
      "         Iterations: 145\n",
      "         Function evaluations: 256\n",
      "[[0.2868627109388633, 3.891050583657585, 6.432546690576379, 0.07, 0.09, -5, 270.0, 3.891050583657585], [0.5818513975785773, 7.633587786259537, 4.167570521906069, 0.07, 0.09, -5, 290.0, 7.633587786259537], [0.3652165316551145, 10.309278350515457, 4.402762708447388, 0.07, 0.09, -5, 250.0, 10.309278350515457]] [True, 0.020748337188784882, 256]\n",
      "=== END =======================================================================\n",
      "=== START =====================================================================\n",
      "8 2019-01-01T04_00_00 {'maxPartitions': 3, 'useClustering': True, 'useWind': False, 'useFittedWindSea': False, 'useWindSeaInClustering': False, 'fitTailExp': -5}\n",
      "Optimization terminated successfully.\n",
      "         Current function value: 0.015955\n",
      "         Iterations: 144\n",
      "         Function evaluations: 258\n",
      "[[0.259691729564956, 2.840909090909089, 5.301152313433072, 0.07, 0.09, -5, 270.0, 2.840909090909089], [0.49404902319172805, 7.936507936507931, 5.344036245768567, 0.07, 0.09, -5, 300.0, 7.936507936507931], [0.3786246091841846, 10.63829787234042, 4.742092421381539, 0.07, 0.09, -5, 250.0, 10.63829787234042]] [True, 0.01595498072766303, 258]\n",
      "=== END =======================================================================\n",
      "=== START =====================================================================\n",
      "9 2019-01-01T04_30_00 {'maxPartitions': 3, 'useClustering': True, 'useWind': False, 'useFittedWindSea': False, 'useWindSeaInClustering': False, 'fitTailExp': -5}\n",
      "Optimization terminated successfully.\n",
      "         Current function value: 0.014245\n",
      "         Iterations: 532\n",
      "         Function evaluations: 874\n",
      "[[0.1452784914163149, 4.201680672268904, 12.589891582371447, 0.07, 0.09, -5, 330.0, 4.201680672268904], [0.6293101167246997, 7.575757575757571, 1.7092587419499372, 0.07, 0.09, -5, 290.0, 7.575757575757571], [0.26997916298071023, 11.235955056179769, 1.165497831720936, 0.07, 0.09, -5, 210.0, 11.235955056179769]] [True, 0.014244645252880734, 874]\n",
      "=== END =======================================================================\n"
     ]
    }
   ],
   "source": [
    "try:\n",
    "    # If running in jupyter notebook put filename here\n",
    "    get_ipython()  # fails if not running in jupyter notebook/ipython \n",
    "    filename = \"data/ExampleWaveSpectraObservations.mat\"\n",
    "except:\n",
    "    # If runing from command line specify input matlab file as command line\n",
    "    #  argument e.g. python fitFromMatlabFile.py data/ExampleWaveSpectraObservations.mat\n",
    "    import sys\n",
    "    if len(sys.argv) > 1:\n",
    "        filename = sys.argv[1]\n",
    "        \n",
    "df = main(filename)"
   ]
  },
  {
   "cell_type": "code",
   "execution_count": 6,
   "id": "e0f4fe36-5146-4d1c-b668-72c53e38324b",
   "metadata": {},
   "outputs": [
    {
     "name": "stdout",
     "output_type": "stream",
     "text": [
      "[NbConvertApp] Converting notebook fitFromMatlabFile.ipynb to python\n",
      "[NbConvertApp] Writing 4696 bytes to fitFromMatlabFile.py\n"
     ]
    }
   ],
   "source": [
    "try:\n",
    "    get_ipython() \n",
    "    !jupyter nbconvert fitFromMatlabFile.ipynb --to python\n",
    "except:\n",
    "    None"
   ]
  },
  {
   "cell_type": "code",
   "execution_count": null,
   "id": "3c1230c2-e72a-450e-ab74-9828fdfaf5b1",
   "metadata": {},
   "outputs": [],
   "source": []
  }
 ],
 "metadata": {
  "kernelspec": {
   "display_name": "Python 3 (ipykernel)",
   "language": "python",
   "name": "python3"
  },
  "language_info": {
   "codemirror_mode": {
    "name": "ipython",
    "version": 3
   },
   "file_extension": ".py",
   "mimetype": "text/x-python",
   "name": "python",
   "nbconvert_exporter": "python",
   "pygments_lexer": "ipython3",
   "version": "3.9.13"
  }
 },
 "nbformat": 4,
 "nbformat_minor": 5
}
